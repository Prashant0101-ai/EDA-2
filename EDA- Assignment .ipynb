{
 "cells": [
  {
   "cell_type": "code",
   "execution_count": 2,
   "metadata": {},
   "outputs": [],
   "source": [
    "import warnings\n",
    "\n",
    "warnings.filterwarnings('ignore')"
   ]
  },
  {
   "cell_type": "code",
   "execution_count": 3,
   "metadata": {},
   "outputs": [],
   "source": [
    "import numpy as np\n",
    "import pandas as pd\n",
    "import seaborn as sns\n",
    "import matplotlib.pyplot as plt\n"
   ]
  },
  {
   "cell_type": "code",
   "execution_count": 4,
   "metadata": {},
   "outputs": [],
   "source": [
    "inp0= pd.read_csv(\"BankChurners.csv\",index_col='CLIENTNUM')\n",
    "# otherwise we face \"e\" values in column \"CLIENTNUM\""
   ]
  },
  {
   "cell_type": "code",
   "execution_count": 5,
   "metadata": {},
   "outputs": [
    {
     "data": {
      "text/plain": [
       "(10127, 20)"
      ]
     },
     "execution_count": 5,
     "metadata": {},
     "output_type": "execute_result"
    }
   ],
   "source": [
    "inp0.shape"
   ]
  },
  {
   "cell_type": "code",
   "execution_count": 6,
   "metadata": {
    "scrolled": true
   },
   "outputs": [
    {
     "name": "stdout",
     "output_type": "stream",
     "text": [
      "<class 'pandas.core.frame.DataFrame'>\n",
      "Int64Index: 10127 entries, 768805383 to 714337233\n",
      "Data columns (total 20 columns):\n",
      " #   Column                    Non-Null Count  Dtype  \n",
      "---  ------                    --------------  -----  \n",
      " 0   Attrition_Flag            10127 non-null  object \n",
      " 1   Customer_Age              10127 non-null  int64  \n",
      " 2   Gender                    10127 non-null  object \n",
      " 3   Dependent_count           10127 non-null  int64  \n",
      " 4   Education_Level           10127 non-null  object \n",
      " 5   Marital_Status            10127 non-null  object \n",
      " 6   Income_Category           10127 non-null  object \n",
      " 7   Card_Category             10127 non-null  object \n",
      " 8   Months_on_book            10127 non-null  int64  \n",
      " 9   Total_Relationship_Count  10127 non-null  int64  \n",
      " 10  Months_Inactive_12_mon    10127 non-null  int64  \n",
      " 11  Contacts_Count_12_mon     10127 non-null  int64  \n",
      " 12  Credit_Limit              10127 non-null  float64\n",
      " 13  Total_Revolving_Bal       10127 non-null  int64  \n",
      " 14  Avg_Open_To_Buy           10127 non-null  float64\n",
      " 15  Total_Amt_Chng_Q4_Q1      10127 non-null  float64\n",
      " 16  Total_Trans_Amt           10127 non-null  int64  \n",
      " 17  Total_Trans_Ct            10127 non-null  int64  \n",
      " 18  Total_Ct_Chng_Q4_Q1       10127 non-null  float64\n",
      " 19  Avg_Utilization_Ratio     10127 non-null  float64\n",
      "dtypes: float64(5), int64(9), object(6)\n",
      "memory usage: 1.6+ MB\n"
     ]
    }
   ],
   "source": [
    "inp0.info()"
   ]
  },
  {
   "cell_type": "code",
   "execution_count": 7,
   "metadata": {},
   "outputs": [
    {
     "data": {
      "text/html": [
       "<div>\n",
       "<style scoped>\n",
       "    .dataframe tbody tr th:only-of-type {\n",
       "        vertical-align: middle;\n",
       "    }\n",
       "\n",
       "    .dataframe tbody tr th {\n",
       "        vertical-align: top;\n",
       "    }\n",
       "\n",
       "    .dataframe thead th {\n",
       "        text-align: right;\n",
       "    }\n",
       "</style>\n",
       "<table border=\"1\" class=\"dataframe\">\n",
       "  <thead>\n",
       "    <tr style=\"text-align: right;\">\n",
       "      <th></th>\n",
       "      <th>Customer_Age</th>\n",
       "      <th>Dependent_count</th>\n",
       "      <th>Months_on_book</th>\n",
       "      <th>Total_Relationship_Count</th>\n",
       "      <th>Months_Inactive_12_mon</th>\n",
       "      <th>Contacts_Count_12_mon</th>\n",
       "      <th>Credit_Limit</th>\n",
       "      <th>Total_Revolving_Bal</th>\n",
       "      <th>Avg_Open_To_Buy</th>\n",
       "      <th>Total_Amt_Chng_Q4_Q1</th>\n",
       "      <th>Total_Trans_Amt</th>\n",
       "      <th>Total_Trans_Ct</th>\n",
       "      <th>Total_Ct_Chng_Q4_Q1</th>\n",
       "      <th>Avg_Utilization_Ratio</th>\n",
       "    </tr>\n",
       "  </thead>\n",
       "  <tbody>\n",
       "    <tr>\n",
       "      <th>count</th>\n",
       "      <td>10127.000000</td>\n",
       "      <td>10127.000000</td>\n",
       "      <td>10127.000000</td>\n",
       "      <td>10127.000000</td>\n",
       "      <td>10127.000000</td>\n",
       "      <td>10127.000000</td>\n",
       "      <td>10127.000000</td>\n",
       "      <td>10127.000000</td>\n",
       "      <td>10127.000000</td>\n",
       "      <td>10127.000000</td>\n",
       "      <td>10127.000000</td>\n",
       "      <td>10127.000000</td>\n",
       "      <td>10127.000000</td>\n",
       "      <td>10127.000000</td>\n",
       "    </tr>\n",
       "    <tr>\n",
       "      <th>mean</th>\n",
       "      <td>46.325960</td>\n",
       "      <td>2.346203</td>\n",
       "      <td>35.928409</td>\n",
       "      <td>3.812580</td>\n",
       "      <td>2.341167</td>\n",
       "      <td>2.455317</td>\n",
       "      <td>8631.953698</td>\n",
       "      <td>1162.814061</td>\n",
       "      <td>7469.139637</td>\n",
       "      <td>0.759941</td>\n",
       "      <td>4404.086304</td>\n",
       "      <td>64.858695</td>\n",
       "      <td>0.712222</td>\n",
       "      <td>0.274894</td>\n",
       "    </tr>\n",
       "    <tr>\n",
       "      <th>std</th>\n",
       "      <td>8.016814</td>\n",
       "      <td>1.298908</td>\n",
       "      <td>7.986416</td>\n",
       "      <td>1.554408</td>\n",
       "      <td>1.010622</td>\n",
       "      <td>1.106225</td>\n",
       "      <td>9088.776650</td>\n",
       "      <td>814.987335</td>\n",
       "      <td>9090.685324</td>\n",
       "      <td>0.219207</td>\n",
       "      <td>3397.129254</td>\n",
       "      <td>23.472570</td>\n",
       "      <td>0.238086</td>\n",
       "      <td>0.275691</td>\n",
       "    </tr>\n",
       "    <tr>\n",
       "      <th>min</th>\n",
       "      <td>26.000000</td>\n",
       "      <td>0.000000</td>\n",
       "      <td>13.000000</td>\n",
       "      <td>1.000000</td>\n",
       "      <td>0.000000</td>\n",
       "      <td>0.000000</td>\n",
       "      <td>1438.300000</td>\n",
       "      <td>0.000000</td>\n",
       "      <td>3.000000</td>\n",
       "      <td>0.000000</td>\n",
       "      <td>510.000000</td>\n",
       "      <td>10.000000</td>\n",
       "      <td>0.000000</td>\n",
       "      <td>0.000000</td>\n",
       "    </tr>\n",
       "    <tr>\n",
       "      <th>25%</th>\n",
       "      <td>41.000000</td>\n",
       "      <td>1.000000</td>\n",
       "      <td>31.000000</td>\n",
       "      <td>3.000000</td>\n",
       "      <td>2.000000</td>\n",
       "      <td>2.000000</td>\n",
       "      <td>2555.000000</td>\n",
       "      <td>359.000000</td>\n",
       "      <td>1324.500000</td>\n",
       "      <td>0.631000</td>\n",
       "      <td>2155.500000</td>\n",
       "      <td>45.000000</td>\n",
       "      <td>0.582000</td>\n",
       "      <td>0.023000</td>\n",
       "    </tr>\n",
       "    <tr>\n",
       "      <th>50%</th>\n",
       "      <td>46.000000</td>\n",
       "      <td>2.000000</td>\n",
       "      <td>36.000000</td>\n",
       "      <td>4.000000</td>\n",
       "      <td>2.000000</td>\n",
       "      <td>2.000000</td>\n",
       "      <td>4549.000000</td>\n",
       "      <td>1276.000000</td>\n",
       "      <td>3474.000000</td>\n",
       "      <td>0.736000</td>\n",
       "      <td>3899.000000</td>\n",
       "      <td>67.000000</td>\n",
       "      <td>0.702000</td>\n",
       "      <td>0.176000</td>\n",
       "    </tr>\n",
       "    <tr>\n",
       "      <th>75%</th>\n",
       "      <td>52.000000</td>\n",
       "      <td>3.000000</td>\n",
       "      <td>40.000000</td>\n",
       "      <td>5.000000</td>\n",
       "      <td>3.000000</td>\n",
       "      <td>3.000000</td>\n",
       "      <td>11067.500000</td>\n",
       "      <td>1784.000000</td>\n",
       "      <td>9859.000000</td>\n",
       "      <td>0.859000</td>\n",
       "      <td>4741.000000</td>\n",
       "      <td>81.000000</td>\n",
       "      <td>0.818000</td>\n",
       "      <td>0.503000</td>\n",
       "    </tr>\n",
       "    <tr>\n",
       "      <th>max</th>\n",
       "      <td>73.000000</td>\n",
       "      <td>5.000000</td>\n",
       "      <td>56.000000</td>\n",
       "      <td>6.000000</td>\n",
       "      <td>6.000000</td>\n",
       "      <td>6.000000</td>\n",
       "      <td>34516.000000</td>\n",
       "      <td>2517.000000</td>\n",
       "      <td>34516.000000</td>\n",
       "      <td>3.397000</td>\n",
       "      <td>18484.000000</td>\n",
       "      <td>139.000000</td>\n",
       "      <td>3.714000</td>\n",
       "      <td>0.999000</td>\n",
       "    </tr>\n",
       "  </tbody>\n",
       "</table>\n",
       "</div>"
      ],
      "text/plain": [
       "       Customer_Age  Dependent_count  Months_on_book  \\\n",
       "count  10127.000000     10127.000000    10127.000000   \n",
       "mean      46.325960         2.346203       35.928409   \n",
       "std        8.016814         1.298908        7.986416   \n",
       "min       26.000000         0.000000       13.000000   \n",
       "25%       41.000000         1.000000       31.000000   \n",
       "50%       46.000000         2.000000       36.000000   \n",
       "75%       52.000000         3.000000       40.000000   \n",
       "max       73.000000         5.000000       56.000000   \n",
       "\n",
       "       Total_Relationship_Count  Months_Inactive_12_mon  \\\n",
       "count              10127.000000            10127.000000   \n",
       "mean                   3.812580                2.341167   \n",
       "std                    1.554408                1.010622   \n",
       "min                    1.000000                0.000000   \n",
       "25%                    3.000000                2.000000   \n",
       "50%                    4.000000                2.000000   \n",
       "75%                    5.000000                3.000000   \n",
       "max                    6.000000                6.000000   \n",
       "\n",
       "       Contacts_Count_12_mon  Credit_Limit  Total_Revolving_Bal  \\\n",
       "count           10127.000000  10127.000000         10127.000000   \n",
       "mean                2.455317   8631.953698          1162.814061   \n",
       "std                 1.106225   9088.776650           814.987335   \n",
       "min                 0.000000   1438.300000             0.000000   \n",
       "25%                 2.000000   2555.000000           359.000000   \n",
       "50%                 2.000000   4549.000000          1276.000000   \n",
       "75%                 3.000000  11067.500000          1784.000000   \n",
       "max                 6.000000  34516.000000          2517.000000   \n",
       "\n",
       "       Avg_Open_To_Buy  Total_Amt_Chng_Q4_Q1  Total_Trans_Amt  Total_Trans_Ct  \\\n",
       "count     10127.000000          10127.000000     10127.000000    10127.000000   \n",
       "mean       7469.139637              0.759941      4404.086304       64.858695   \n",
       "std        9090.685324              0.219207      3397.129254       23.472570   \n",
       "min           3.000000              0.000000       510.000000       10.000000   \n",
       "25%        1324.500000              0.631000      2155.500000       45.000000   \n",
       "50%        3474.000000              0.736000      3899.000000       67.000000   \n",
       "75%        9859.000000              0.859000      4741.000000       81.000000   \n",
       "max       34516.000000              3.397000     18484.000000      139.000000   \n",
       "\n",
       "       Total_Ct_Chng_Q4_Q1  Avg_Utilization_Ratio  \n",
       "count         10127.000000           10127.000000  \n",
       "mean              0.712222               0.274894  \n",
       "std               0.238086               0.275691  \n",
       "min               0.000000               0.000000  \n",
       "25%               0.582000               0.023000  \n",
       "50%               0.702000               0.176000  \n",
       "75%               0.818000               0.503000  \n",
       "max               3.714000               0.999000  "
      ]
     },
     "execution_count": 7,
     "metadata": {},
     "output_type": "execute_result"
    }
   ],
   "source": [
    "inp0.describe()"
   ]
  },
  {
   "cell_type": "code",
   "execution_count": 8,
   "metadata": {
    "scrolled": true
   },
   "outputs": [
    {
     "data": {
      "text/html": [
       "<div>\n",
       "<style scoped>\n",
       "    .dataframe tbody tr th:only-of-type {\n",
       "        vertical-align: middle;\n",
       "    }\n",
       "\n",
       "    .dataframe tbody tr th {\n",
       "        vertical-align: top;\n",
       "    }\n",
       "\n",
       "    .dataframe thead th {\n",
       "        text-align: right;\n",
       "    }\n",
       "</style>\n",
       "<table border=\"1\" class=\"dataframe\">\n",
       "  <thead>\n",
       "    <tr style=\"text-align: right;\">\n",
       "      <th></th>\n",
       "      <th>Attrition_Flag</th>\n",
       "      <th>Customer_Age</th>\n",
       "      <th>Gender</th>\n",
       "      <th>Dependent_count</th>\n",
       "      <th>Education_Level</th>\n",
       "      <th>Marital_Status</th>\n",
       "      <th>Income_Category</th>\n",
       "      <th>Card_Category</th>\n",
       "      <th>Months_on_book</th>\n",
       "      <th>Total_Relationship_Count</th>\n",
       "      <th>Months_Inactive_12_mon</th>\n",
       "      <th>Contacts_Count_12_mon</th>\n",
       "      <th>Credit_Limit</th>\n",
       "      <th>Total_Revolving_Bal</th>\n",
       "      <th>Avg_Open_To_Buy</th>\n",
       "      <th>Total_Amt_Chng_Q4_Q1</th>\n",
       "      <th>Total_Trans_Amt</th>\n",
       "      <th>Total_Trans_Ct</th>\n",
       "      <th>Total_Ct_Chng_Q4_Q1</th>\n",
       "      <th>Avg_Utilization_Ratio</th>\n",
       "    </tr>\n",
       "    <tr>\n",
       "      <th>CLIENTNUM</th>\n",
       "      <th></th>\n",
       "      <th></th>\n",
       "      <th></th>\n",
       "      <th></th>\n",
       "      <th></th>\n",
       "      <th></th>\n",
       "      <th></th>\n",
       "      <th></th>\n",
       "      <th></th>\n",
       "      <th></th>\n",
       "      <th></th>\n",
       "      <th></th>\n",
       "      <th></th>\n",
       "      <th></th>\n",
       "      <th></th>\n",
       "      <th></th>\n",
       "      <th></th>\n",
       "      <th></th>\n",
       "      <th></th>\n",
       "      <th></th>\n",
       "    </tr>\n",
       "  </thead>\n",
       "  <tbody>\n",
       "    <tr>\n",
       "      <th>768805383</th>\n",
       "      <td>Existing Customer</td>\n",
       "      <td>45</td>\n",
       "      <td>M</td>\n",
       "      <td>3</td>\n",
       "      <td>High School</td>\n",
       "      <td>Married</td>\n",
       "      <td>$60K - $80K</td>\n",
       "      <td>Blue</td>\n",
       "      <td>39</td>\n",
       "      <td>5</td>\n",
       "      <td>1</td>\n",
       "      <td>3</td>\n",
       "      <td>12691.0</td>\n",
       "      <td>777</td>\n",
       "      <td>11914.0</td>\n",
       "      <td>1.335</td>\n",
       "      <td>1144</td>\n",
       "      <td>42</td>\n",
       "      <td>1.625</td>\n",
       "      <td>0.061</td>\n",
       "    </tr>\n",
       "    <tr>\n",
       "      <th>818770008</th>\n",
       "      <td>Existing Customer</td>\n",
       "      <td>49</td>\n",
       "      <td>F</td>\n",
       "      <td>5</td>\n",
       "      <td>Graduate</td>\n",
       "      <td>Single</td>\n",
       "      <td>Less than $40K</td>\n",
       "      <td>Blue</td>\n",
       "      <td>44</td>\n",
       "      <td>6</td>\n",
       "      <td>1</td>\n",
       "      <td>2</td>\n",
       "      <td>8256.0</td>\n",
       "      <td>864</td>\n",
       "      <td>7392.0</td>\n",
       "      <td>1.541</td>\n",
       "      <td>1291</td>\n",
       "      <td>33</td>\n",
       "      <td>3.714</td>\n",
       "      <td>0.105</td>\n",
       "    </tr>\n",
       "    <tr>\n",
       "      <th>713982108</th>\n",
       "      <td>Existing Customer</td>\n",
       "      <td>51</td>\n",
       "      <td>M</td>\n",
       "      <td>3</td>\n",
       "      <td>Graduate</td>\n",
       "      <td>Married</td>\n",
       "      <td>$80K - $120K</td>\n",
       "      <td>Blue</td>\n",
       "      <td>36</td>\n",
       "      <td>4</td>\n",
       "      <td>1</td>\n",
       "      <td>0</td>\n",
       "      <td>3418.0</td>\n",
       "      <td>0</td>\n",
       "      <td>3418.0</td>\n",
       "      <td>2.594</td>\n",
       "      <td>1887</td>\n",
       "      <td>20</td>\n",
       "      <td>2.333</td>\n",
       "      <td>0.000</td>\n",
       "    </tr>\n",
       "    <tr>\n",
       "      <th>769911858</th>\n",
       "      <td>Existing Customer</td>\n",
       "      <td>40</td>\n",
       "      <td>F</td>\n",
       "      <td>4</td>\n",
       "      <td>High School</td>\n",
       "      <td>Unknown</td>\n",
       "      <td>Less than $40K</td>\n",
       "      <td>Blue</td>\n",
       "      <td>34</td>\n",
       "      <td>3</td>\n",
       "      <td>4</td>\n",
       "      <td>1</td>\n",
       "      <td>3313.0</td>\n",
       "      <td>2517</td>\n",
       "      <td>796.0</td>\n",
       "      <td>1.405</td>\n",
       "      <td>1171</td>\n",
       "      <td>20</td>\n",
       "      <td>2.333</td>\n",
       "      <td>0.760</td>\n",
       "    </tr>\n",
       "    <tr>\n",
       "      <th>709106358</th>\n",
       "      <td>Existing Customer</td>\n",
       "      <td>40</td>\n",
       "      <td>M</td>\n",
       "      <td>3</td>\n",
       "      <td>Uneducated</td>\n",
       "      <td>Married</td>\n",
       "      <td>$60K - $80K</td>\n",
       "      <td>Blue</td>\n",
       "      <td>21</td>\n",
       "      <td>5</td>\n",
       "      <td>1</td>\n",
       "      <td>0</td>\n",
       "      <td>4716.0</td>\n",
       "      <td>0</td>\n",
       "      <td>4716.0</td>\n",
       "      <td>2.175</td>\n",
       "      <td>816</td>\n",
       "      <td>28</td>\n",
       "      <td>2.500</td>\n",
       "      <td>0.000</td>\n",
       "    </tr>\n",
       "    <tr>\n",
       "      <th>...</th>\n",
       "      <td>...</td>\n",
       "      <td>...</td>\n",
       "      <td>...</td>\n",
       "      <td>...</td>\n",
       "      <td>...</td>\n",
       "      <td>...</td>\n",
       "      <td>...</td>\n",
       "      <td>...</td>\n",
       "      <td>...</td>\n",
       "      <td>...</td>\n",
       "      <td>...</td>\n",
       "      <td>...</td>\n",
       "      <td>...</td>\n",
       "      <td>...</td>\n",
       "      <td>...</td>\n",
       "      <td>...</td>\n",
       "      <td>...</td>\n",
       "      <td>...</td>\n",
       "      <td>...</td>\n",
       "      <td>...</td>\n",
       "    </tr>\n",
       "    <tr>\n",
       "      <th>772366833</th>\n",
       "      <td>Existing Customer</td>\n",
       "      <td>50</td>\n",
       "      <td>M</td>\n",
       "      <td>2</td>\n",
       "      <td>Graduate</td>\n",
       "      <td>Single</td>\n",
       "      <td>$40K - $60K</td>\n",
       "      <td>Blue</td>\n",
       "      <td>40</td>\n",
       "      <td>3</td>\n",
       "      <td>2</td>\n",
       "      <td>3</td>\n",
       "      <td>4003.0</td>\n",
       "      <td>1851</td>\n",
       "      <td>2152.0</td>\n",
       "      <td>0.703</td>\n",
       "      <td>15476</td>\n",
       "      <td>117</td>\n",
       "      <td>0.857</td>\n",
       "      <td>0.462</td>\n",
       "    </tr>\n",
       "    <tr>\n",
       "      <th>710638233</th>\n",
       "      <td>Attrited Customer</td>\n",
       "      <td>41</td>\n",
       "      <td>M</td>\n",
       "      <td>2</td>\n",
       "      <td>Unknown</td>\n",
       "      <td>Divorced</td>\n",
       "      <td>$40K - $60K</td>\n",
       "      <td>Blue</td>\n",
       "      <td>25</td>\n",
       "      <td>4</td>\n",
       "      <td>2</td>\n",
       "      <td>3</td>\n",
       "      <td>4277.0</td>\n",
       "      <td>2186</td>\n",
       "      <td>2091.0</td>\n",
       "      <td>0.804</td>\n",
       "      <td>8764</td>\n",
       "      <td>69</td>\n",
       "      <td>0.683</td>\n",
       "      <td>0.511</td>\n",
       "    </tr>\n",
       "    <tr>\n",
       "      <th>716506083</th>\n",
       "      <td>Attrited Customer</td>\n",
       "      <td>44</td>\n",
       "      <td>F</td>\n",
       "      <td>1</td>\n",
       "      <td>High School</td>\n",
       "      <td>Married</td>\n",
       "      <td>Less than $40K</td>\n",
       "      <td>Blue</td>\n",
       "      <td>36</td>\n",
       "      <td>5</td>\n",
       "      <td>3</td>\n",
       "      <td>4</td>\n",
       "      <td>5409.0</td>\n",
       "      <td>0</td>\n",
       "      <td>5409.0</td>\n",
       "      <td>0.819</td>\n",
       "      <td>10291</td>\n",
       "      <td>60</td>\n",
       "      <td>0.818</td>\n",
       "      <td>0.000</td>\n",
       "    </tr>\n",
       "    <tr>\n",
       "      <th>717406983</th>\n",
       "      <td>Attrited Customer</td>\n",
       "      <td>30</td>\n",
       "      <td>M</td>\n",
       "      <td>2</td>\n",
       "      <td>Graduate</td>\n",
       "      <td>Unknown</td>\n",
       "      <td>$40K - $60K</td>\n",
       "      <td>Blue</td>\n",
       "      <td>36</td>\n",
       "      <td>4</td>\n",
       "      <td>3</td>\n",
       "      <td>3</td>\n",
       "      <td>5281.0</td>\n",
       "      <td>0</td>\n",
       "      <td>5281.0</td>\n",
       "      <td>0.535</td>\n",
       "      <td>8395</td>\n",
       "      <td>62</td>\n",
       "      <td>0.722</td>\n",
       "      <td>0.000</td>\n",
       "    </tr>\n",
       "    <tr>\n",
       "      <th>714337233</th>\n",
       "      <td>Attrited Customer</td>\n",
       "      <td>43</td>\n",
       "      <td>F</td>\n",
       "      <td>2</td>\n",
       "      <td>Graduate</td>\n",
       "      <td>Married</td>\n",
       "      <td>Less than $40K</td>\n",
       "      <td>Silver</td>\n",
       "      <td>25</td>\n",
       "      <td>6</td>\n",
       "      <td>2</td>\n",
       "      <td>4</td>\n",
       "      <td>10388.0</td>\n",
       "      <td>1961</td>\n",
       "      <td>8427.0</td>\n",
       "      <td>0.703</td>\n",
       "      <td>10294</td>\n",
       "      <td>61</td>\n",
       "      <td>0.649</td>\n",
       "      <td>0.189</td>\n",
       "    </tr>\n",
       "  </tbody>\n",
       "</table>\n",
       "<p>10127 rows × 20 columns</p>\n",
       "</div>"
      ],
      "text/plain": [
       "              Attrition_Flag  Customer_Age Gender  Dependent_count  \\\n",
       "CLIENTNUM                                                            \n",
       "768805383  Existing Customer            45      M                3   \n",
       "818770008  Existing Customer            49      F                5   \n",
       "713982108  Existing Customer            51      M                3   \n",
       "769911858  Existing Customer            40      F                4   \n",
       "709106358  Existing Customer            40      M                3   \n",
       "...                      ...           ...    ...              ...   \n",
       "772366833  Existing Customer            50      M                2   \n",
       "710638233  Attrited Customer            41      M                2   \n",
       "716506083  Attrited Customer            44      F                1   \n",
       "717406983  Attrited Customer            30      M                2   \n",
       "714337233  Attrited Customer            43      F                2   \n",
       "\n",
       "          Education_Level Marital_Status Income_Category Card_Category  \\\n",
       "CLIENTNUM                                                                \n",
       "768805383     High School        Married     $60K - $80K          Blue   \n",
       "818770008        Graduate         Single  Less than $40K          Blue   \n",
       "713982108        Graduate        Married    $80K - $120K          Blue   \n",
       "769911858     High School        Unknown  Less than $40K          Blue   \n",
       "709106358      Uneducated        Married     $60K - $80K          Blue   \n",
       "...                   ...            ...             ...           ...   \n",
       "772366833        Graduate         Single     $40K - $60K          Blue   \n",
       "710638233         Unknown       Divorced     $40K - $60K          Blue   \n",
       "716506083     High School        Married  Less than $40K          Blue   \n",
       "717406983        Graduate        Unknown     $40K - $60K          Blue   \n",
       "714337233        Graduate        Married  Less than $40K        Silver   \n",
       "\n",
       "           Months_on_book  Total_Relationship_Count  Months_Inactive_12_mon  \\\n",
       "CLIENTNUM                                                                     \n",
       "768805383              39                         5                       1   \n",
       "818770008              44                         6                       1   \n",
       "713982108              36                         4                       1   \n",
       "769911858              34                         3                       4   \n",
       "709106358              21                         5                       1   \n",
       "...                   ...                       ...                     ...   \n",
       "772366833              40                         3                       2   \n",
       "710638233              25                         4                       2   \n",
       "716506083              36                         5                       3   \n",
       "717406983              36                         4                       3   \n",
       "714337233              25                         6                       2   \n",
       "\n",
       "           Contacts_Count_12_mon  Credit_Limit  Total_Revolving_Bal  \\\n",
       "CLIENTNUM                                                             \n",
       "768805383                      3       12691.0                  777   \n",
       "818770008                      2        8256.0                  864   \n",
       "713982108                      0        3418.0                    0   \n",
       "769911858                      1        3313.0                 2517   \n",
       "709106358                      0        4716.0                    0   \n",
       "...                          ...           ...                  ...   \n",
       "772366833                      3        4003.0                 1851   \n",
       "710638233                      3        4277.0                 2186   \n",
       "716506083                      4        5409.0                    0   \n",
       "717406983                      3        5281.0                    0   \n",
       "714337233                      4       10388.0                 1961   \n",
       "\n",
       "           Avg_Open_To_Buy  Total_Amt_Chng_Q4_Q1  Total_Trans_Amt  \\\n",
       "CLIENTNUM                                                           \n",
       "768805383          11914.0                 1.335             1144   \n",
       "818770008           7392.0                 1.541             1291   \n",
       "713982108           3418.0                 2.594             1887   \n",
       "769911858            796.0                 1.405             1171   \n",
       "709106358           4716.0                 2.175              816   \n",
       "...                    ...                   ...              ...   \n",
       "772366833           2152.0                 0.703            15476   \n",
       "710638233           2091.0                 0.804             8764   \n",
       "716506083           5409.0                 0.819            10291   \n",
       "717406983           5281.0                 0.535             8395   \n",
       "714337233           8427.0                 0.703            10294   \n",
       "\n",
       "           Total_Trans_Ct  Total_Ct_Chng_Q4_Q1  Avg_Utilization_Ratio  \n",
       "CLIENTNUM                                                              \n",
       "768805383              42                1.625                  0.061  \n",
       "818770008              33                3.714                  0.105  \n",
       "713982108              20                2.333                  0.000  \n",
       "769911858              20                2.333                  0.760  \n",
       "709106358              28                2.500                  0.000  \n",
       "...                   ...                  ...                    ...  \n",
       "772366833             117                0.857                  0.462  \n",
       "710638233              69                0.683                  0.511  \n",
       "716506083              60                0.818                  0.000  \n",
       "717406983              62                0.722                  0.000  \n",
       "714337233              61                0.649                  0.189  \n",
       "\n",
       "[10127 rows x 20 columns]"
      ]
     },
     "execution_count": 8,
     "metadata": {},
     "output_type": "execute_result"
    }
   ],
   "source": [
    "inp0"
   ]
  },
  {
   "cell_type": "code",
   "execution_count": 9,
   "metadata": {},
   "outputs": [
    {
     "data": {
      "text/plain": [
       "Attrition_Flag              0\n",
       "Customer_Age                0\n",
       "Gender                      0\n",
       "Dependent_count             0\n",
       "Education_Level             0\n",
       "Marital_Status              0\n",
       "Income_Category             0\n",
       "Card_Category               0\n",
       "Months_on_book              0\n",
       "Total_Relationship_Count    0\n",
       "Months_Inactive_12_mon      0\n",
       "Contacts_Count_12_mon       0\n",
       "Credit_Limit                0\n",
       "Total_Revolving_Bal         0\n",
       "Avg_Open_To_Buy             0\n",
       "Total_Amt_Chng_Q4_Q1        0\n",
       "Total_Trans_Amt             0\n",
       "Total_Trans_Ct              0\n",
       "Total_Ct_Chng_Q4_Q1         0\n",
       "Avg_Utilization_Ratio       0\n",
       "dtype: int64"
      ]
     },
     "execution_count": 9,
     "metadata": {},
     "output_type": "execute_result"
    }
   ],
   "source": [
    "inp0.isnull().sum()\n",
    "# There is no missing value in our dataset"
   ]
  },
  {
   "cell_type": "markdown",
   "metadata": {},
   "source": [
    "# For outliers using boxplot, Capping and Flooring"
   ]
  },
  {
   "cell_type": "code",
   "execution_count": 10,
   "metadata": {},
   "outputs": [
    {
     "data": {
      "text/plain": [
       "<matplotlib.axes._subplots.AxesSubplot at 0x2d64e1afbe0>"
      ]
     },
     "execution_count": 10,
     "metadata": {},
     "output_type": "execute_result"
    },
    {
     "data": {
      "image/png": "[encoded data removed]",
      "text/plain": [
       "<Figure size 432x288 with 1 Axes>"
      ]
     },
     "metadata": {
      "needs_background": "light"
     },
     "output_type": "display_data"
    }
   ],
   "source": [
    "sns.boxplot(inp0.Credit_Limit)"
   ]
  },
  {
   "cell_type": "code",
   "execution_count": 11,
   "metadata": {},
   "outputs": [
    {
     "data": {
      "text/plain": [
       "count    10127.000000\n",
       "mean      8631.953698\n",
       "std       9088.776650\n",
       "min       1438.300000\n",
       "25%       2555.000000\n",
       "50%       4549.000000\n",
       "75%      11067.500000\n",
       "max      34516.000000\n",
       "Name: Credit_Limit, dtype: float64"
      ]
     },
     "execution_count": 11,
     "metadata": {},
     "output_type": "execute_result"
    }
   ],
   "source": [
    "inp0.Credit_Limit.describe()"
   ]
  },
  {
   "cell_type": "code",
   "execution_count": 12,
   "metadata": {},
   "outputs": [
    {
     "data": {
      "text/plain": [
       "(array([5211., 1524.,  931.,  589.,  407.,  299.,  252.,  161.,  128.,\n",
       "         625.]),\n",
       " array([ 1438.3 ,  4746.07,  8053.84, 11361.61, 14669.38, 17977.15,\n",
       "        21284.92, 24592.69, 27900.46, 31208.23, 34516.  ]),\n",
       " <a list of 10 Patch objects>)"
      ]
     },
     "execution_count": 12,
     "metadata": {},
     "output_type": "execute_result"
    },
    {
     "data": {
      "image/png": "[encoded data removed]",
      "text/plain": [
       "<Figure size 432x288 with 1 Axes>"
      ]
     },
     "metadata": {
      "needs_background": "light"
     },
     "output_type": "display_data"
    }
   ],
   "source": [
    "# we notice that more than 80% values fall before 21284.92\n",
    "plt.hist(inp0.Credit_Limit,bins=10)"
   ]
  },
  {
   "cell_type": "code",
   "execution_count": 13,
   "metadata": {},
   "outputs": [
    {
     "data": {
      "text/plain": [
       "(array([3052., 1708.,  906.,  629.,  505.,  431.,  336.,  295.,  253.,\n",
       "         199.]),\n",
       " array([ 1438.3 ,  2794.37,  4150.44,  5506.51,  6862.58,  8218.65,\n",
       "         9574.72, 10930.79, 12286.86, 13642.93, 14999.  ]),\n",
       " <a list of 10 Patch objects>)"
      ]
     },
     "execution_count": 13,
     "metadata": {},
     "output_type": "execute_result"
    },
    {
     "data": {
      "image/png": "[encoded data removed]",
      "text/plain": [
       "<Figure size 432x288 with 1 Axes>"
      ]
     },
     "metadata": {
      "needs_background": "light"
     },
     "output_type": "display_data"
    }
   ],
   "source": [
    "# flooring value from 15000\n",
    "inp0=inp0[inp0.Credit_Limit<=15000]\n",
    "plt.hist(inp0.Credit_Limit)"
   ]
  },
  {
   "cell_type": "code",
   "execution_count": 14,
   "metadata": {},
   "outputs": [
    {
     "data": {
      "text/plain": [
       "<matplotlib.axes._subplots.AxesSubplot at 0x2d64ea20730>"
      ]
     },
     "execution_count": 14,
     "metadata": {},
     "output_type": "execute_result"
    },
    {
     "data": {
      "image/png": "[encoded data removed]",
      "text/plain": [
       "<Figure size 432x288 with 1 Axes>"
      ]
     },
     "metadata": {
      "needs_background": "light"
     },
     "output_type": "display_data"
    }
   ],
   "source": [
    "sns.boxplot(inp0.Months_on_book)"
   ]
  },
  {
   "cell_type": "code",
   "execution_count": 15,
   "metadata": {},
   "outputs": [
    {
     "data": {
      "text/plain": [
       "(array([ 168.,  244.,  472., 1001.,  982., 2823., 1238.,  680.,  406.,\n",
       "         300.]),\n",
       " array([13. , 17.3, 21.6, 25.9, 30.2, 34.5, 38.8, 43.1, 47.4, 51.7, 56. ]),\n",
       " <a list of 10 Patch objects>)"
      ]
     },
     "execution_count": 15,
     "metadata": {},
     "output_type": "execute_result"
    },
    {
     "data": {
      "image/png": "[encoded data removed]",
      "text/plain": [
       "<Figure size 432x288 with 1 Axes>"
      ]
     },
     "metadata": {
      "needs_background": "light"
     },
     "output_type": "display_data"
    }
   ],
   "source": [
    "plt.hist(inp0.Months_on_book)"
   ]
  },
  {
   "cell_type": "code",
   "execution_count": 16,
   "metadata": {},
   "outputs": [
    {
     "data": {
      "text/plain": [
       "(array([2740., 1514.,  805.,  562.,  451.,  386.,  297.,  271.,  224.,\n",
       "         180.]),\n",
       " array([ 1438.3 ,  2794.37,  4150.44,  5506.51,  6862.58,  8218.65,\n",
       "         9574.72, 10930.79, 12286.86, 13642.93, 14999.  ]),\n",
       " <a list of 10 Patch objects>)"
      ]
     },
     "execution_count": 16,
     "metadata": {},
     "output_type": "execute_result"
    },
    {
     "data": {
      "image/png": "[encoded data removed]",
      "text/plain": [
       "<Figure size 432x288 with 1 Axes>"
      ]
     },
     "metadata": {
      "needs_background": "light"
     },
     "output_type": "display_data"
    }
   ],
   "source": [
    "#capping for \"Months_on_book\"\n",
    "inp0=inp0[inp0.Months_on_book>25.9]\n",
    "plt.hist(inp0.Credit_Limit)"
   ]
  },
  {
   "cell_type": "markdown",
   "metadata": {},
   "source": [
    "# Categorical Univariate Variable Analysis"
   ]
  },
  {
   "cell_type": "code",
   "execution_count": 17,
   "metadata": {},
   "outputs": [
    {
     "data": {
      "text/plain": [
       "Graduate         2309\n",
       "High School      1488\n",
       "Unknown          1128\n",
       "Uneducated       1070\n",
       "College           721\n",
       "Post-Graduate     363\n",
       "Doctorate         351\n",
       "Name: Education_Level, dtype: int64"
      ]
     },
     "execution_count": 17,
     "metadata": {},
     "output_type": "execute_result"
    }
   ],
   "source": [
    "inp0.Education_Level.value_counts()"
   ]
  },
  {
   "cell_type": "code",
   "execution_count": 18,
   "metadata": {},
   "outputs": [
    {
     "data": {
      "text/plain": [
       "(array([1488., 2309.,    0., 1070.,    0., 1128.,  721.,    0.,  351.,\n",
       "         363.]),\n",
       " array([0. , 0.6, 1.2, 1.8, 2.4, 3. , 3.6, 4.2, 4.8, 5.4, 6. ]),\n",
       " <a list of 10 Patch objects>)"
      ]
     },
     "execution_count": 18,
     "metadata": {},
     "output_type": "execute_result"
    },
    {
     "data": {
      "image/png": "[encoded data removed]",
      "text/plain": [
       "<Figure size 1008x432 with 1 Axes>"
      ]
     },
     "metadata": {
      "needs_background": "light"
     },
     "output_type": "display_data"
    }
   ],
   "source": [
    "fig, axes = plt.subplots(ncols=1, figsize=(14, 6))\n",
    "plt.hist(inp0.Education_Level)"
   ]
  },
  {
   "cell_type": "code",
   "execution_count": 19,
   "metadata": {},
   "outputs": [
    {
     "data": {
      "text/plain": [
       "<matplotlib.axes._subplots.AxesSubplot at 0x2d64ec02070>"
      ]
     },
     "execution_count": 19,
     "metadata": {},
     "output_type": "execute_result"
    },
    {
     "data": {
      "image/png": "[encoded data removed]",
      "text/plain": [
       "<Figure size 432x288 with 1 Axes>"
      ]
     },
     "metadata": {},
     "output_type": "display_data"
    }
   ],
   "source": [
    "inp0.Education_Level.value_counts().plot.pie()"
   ]
  },
  {
   "cell_type": "markdown",
   "metadata": {},
   "source": [
    "## Bivariate Numeric Analysis"
   ]
  },
  {
   "cell_type": "code",
   "execution_count": 20,
   "metadata": {},
   "outputs": [
    {
     "data": {
      "text/plain": [
       "<matplotlib.collections.PathCollection at 0x2d64ec80ac0>"
      ]
     },
     "execution_count": 20,
     "metadata": {},
     "output_type": "execute_result"
    },
    {
     "data": {
      "image/png": "[encoded data removed]",
      "text/plain": [
       "<Figure size 432x288 with 1 Axes>"
      ]
     },
     "metadata": {
      "needs_background": "light"
     },
     "output_type": "display_data"
    }
   ],
   "source": [
    "plt.scatter(inp0.Credit_Limit,inp0.Total_Trans_Amt)"
   ]
  },
  {
   "cell_type": "markdown",
   "metadata": {},
   "source": [
    "# Bivariate Categorical Analysis"
   ]
  },
  {
   "cell_type": "code",
   "execution_count": 21,
   "metadata": {},
   "outputs": [],
   "source": [
    "from scipy.stats import chi2_contingency"
   ]
  },
  {
   "cell_type": "code",
   "execution_count": 22,
   "metadata": {},
   "outputs": [
    {
     "data": {
      "text/html": [
       "<div>\n",
       "<style scoped>\n",
       "    .dataframe tbody tr th:only-of-type {\n",
       "        vertical-align: middle;\n",
       "    }\n",
       "\n",
       "    .dataframe tbody tr th {\n",
       "        vertical-align: top;\n",
       "    }\n",
       "\n",
       "    .dataframe thead th {\n",
       "        text-align: right;\n",
       "    }\n",
       "</style>\n",
       "<table border=\"1\" class=\"dataframe\">\n",
       "  <thead>\n",
       "    <tr style=\"text-align: right;\">\n",
       "      <th>Marital_Status</th>\n",
       "      <th>Divorced</th>\n",
       "      <th>Married</th>\n",
       "      <th>Single</th>\n",
       "      <th>Unknown</th>\n",
       "    </tr>\n",
       "    <tr>\n",
       "      <th>Education_Level</th>\n",
       "      <th></th>\n",
       "      <th></th>\n",
       "      <th></th>\n",
       "      <th></th>\n",
       "    </tr>\n",
       "  </thead>\n",
       "  <tbody>\n",
       "    <tr>\n",
       "      <th>College</th>\n",
       "      <td>61</td>\n",
       "      <td>343</td>\n",
       "      <td>267</td>\n",
       "      <td>50</td>\n",
       "    </tr>\n",
       "    <tr>\n",
       "      <th>Doctorate</th>\n",
       "      <td>29</td>\n",
       "      <td>165</td>\n",
       "      <td>138</td>\n",
       "      <td>19</td>\n",
       "    </tr>\n",
       "    <tr>\n",
       "      <th>Graduate</th>\n",
       "      <td>160</td>\n",
       "      <td>1126</td>\n",
       "      <td>855</td>\n",
       "      <td>168</td>\n",
       "    </tr>\n",
       "    <tr>\n",
       "      <th>High School</th>\n",
       "      <td>91</td>\n",
       "      <td>739</td>\n",
       "      <td>549</td>\n",
       "      <td>109</td>\n",
       "    </tr>\n",
       "    <tr>\n",
       "      <th>Post-Graduate</th>\n",
       "      <td>33</td>\n",
       "      <td>181</td>\n",
       "      <td>122</td>\n",
       "      <td>27</td>\n",
       "    </tr>\n",
       "    <tr>\n",
       "      <th>Uneducated</th>\n",
       "      <td>85</td>\n",
       "      <td>498</td>\n",
       "      <td>411</td>\n",
       "      <td>76</td>\n",
       "    </tr>\n",
       "    <tr>\n",
       "      <th>Unknown</th>\n",
       "      <td>62</td>\n",
       "      <td>529</td>\n",
       "      <td>454</td>\n",
       "      <td>83</td>\n",
       "    </tr>\n",
       "  </tbody>\n",
       "</table>\n",
       "</div>"
      ],
      "text/plain": [
       "Marital_Status   Divorced  Married  Single  Unknown\n",
       "Education_Level                                    \n",
       "College                61      343     267       50\n",
       "Doctorate              29      165     138       19\n",
       "Graduate              160     1126     855      168\n",
       "High School            91      739     549      109\n",
       "Post-Graduate          33      181     122       27\n",
       "Uneducated             85      498     411       76\n",
       "Unknown                62      529     454       83"
      ]
     },
     "execution_count": 22,
     "metadata": {},
     "output_type": "execute_result"
    }
   ],
   "source": [
    "x= pd.crosstab(inp0['Education_Level'], inp0['Marital_Status']) \n",
    "x"
   ]
  },
  {
   "cell_type": "markdown",
   "metadata": {},
   "source": [
    "## CHI Square Testing 1"
   ]
  },
  {
   "cell_type": "code",
   "execution_count": 23,
   "metadata": {},
   "outputs": [
    {
     "name": "stdout",
     "output_type": "stream",
     "text": [
      "0.30927390190698195\n"
     ]
    }
   ],
   "source": [
    "c, p, dof, expected = chi2_contingency(x) \n",
    "# Print the p-value\n",
    "print(p)\n",
    "# with 95% confidence level we do not reject null hypothesis\n",
    "#The null hypothesis was that Education_Level and Marital_Status are independent."
   ]
  },
  {
   "cell_type": "markdown",
   "metadata": {},
   "source": [
    "## CHI Square Testing 2"
   ]
  },
  {
   "cell_type": "code",
   "execution_count": 24,
   "metadata": {},
   "outputs": [
    {
     "name": "stdout",
     "output_type": "stream",
     "text": [
      "stat=20.427, p=0.309\n",
      "Probably independent\n"
     ]
    }
   ],
   "source": [
    "from scipy.stats import chi2_contingency\n",
    "table = pd.crosstab(inp0['Education_Level'], inp0['Marital_Status']) \n",
    "stat, p, dof, expected = chi2_contingency(table)\n",
    "print('stat=%.3f, p=%.3f' % (stat, p))\n",
    "if p > 0.05:\n",
    "    print('Probably independent')\n",
    "else:\n",
    "    print('Probably dependent')\n"
   ]
  },
  {
   "cell_type": "markdown",
   "metadata": {},
   "source": [
    "## Convert Gender into numerical "
   ]
  },
  {
   "cell_type": "code",
   "execution_count": 25,
   "metadata": {},
   "outputs": [
    {
     "data": {
      "text/plain": [
       "0    0.617093\n",
       "1    0.382907\n",
       "Name: Gender, dtype: float64"
      ]
     },
     "execution_count": 25,
     "metadata": {},
     "output_type": "execute_result"
    }
   ],
   "source": [
    "# Gender \"M\"= 1, \"F\"= 0\n",
    "inp0[\"Gender\"]=np.where(inp0.Gender==\"M\",1,0)\n",
    "inp0.Gender.value_counts(normalize=True)"
   ]
  },
  {
   "cell_type": "markdown",
   "metadata": {},
   "source": [
    "## Two Categorical Variables"
   ]
  },
  {
   "cell_type": "code",
   "execution_count": 26,
   "metadata": {},
   "outputs": [
    {
     "data": {
      "text/plain": [
       "<matplotlib.axes._subplots.AxesSubplot at 0x2d64ed0d070>"
      ]
     },
     "execution_count": 26,
     "metadata": {},
     "output_type": "execute_result"
    },
    {
     "data": {
      "image/png": "[encoded data removed]",
      "text/plain": [
       "<Figure size 432x288 with 1 Axes>"
      ]
     },
     "metadata": {
      "needs_background": "light"
     },
     "output_type": "display_data"
    }
   ],
   "source": [
    "inp0.groupby(\"Education_Level\")[\"Gender\"].mean().plot.barh()"
   ]
  },
  {
   "cell_type": "markdown",
   "metadata": {},
   "source": [
    "# ANOVA Testing"
   ]
  },
  {
   "cell_type": "code",
   "execution_count": 35,
   "metadata": {},
   "outputs": [
    {
     "name": "stdout",
     "output_type": "stream",
     "text": [
      "stat=14893.350, p=0.000\n",
      "Probably different distributions\n"
     ]
    }
   ],
   "source": [
    "from scipy.stats import f_oneway\n",
    "data1 = inp0.Gender\n",
    "data2 = inp0.Credit_Limit\n",
    "data3 = inp0.Customer_Age\n",
    "stat, p = f_oneway(data1, data2, data3)\n",
    "print('stat=%.3f, p=%.3f' % (stat, p))\n",
    "if p > 0.05:\n",
    "    print('Probably the same distribution')\n",
    "else:\n",
    "    print('Probably different distributions')"
   ]
  },
  {
   "cell_type": "markdown",
   "metadata": {},
   "source": [
    "# Multivariate Analysis"
   ]
  },
  {
   "cell_type": "code",
   "execution_count": 28,
   "metadata": {},
   "outputs": [
    {
     "data": {
      "text/plain": [
       "<matplotlib.axes._subplots.AxesSubplot at 0x2d64eaeaca0>"
      ]
     },
     "execution_count": 28,
     "metadata": {},
     "output_type": "execute_result"
    },
    {
     "data": {
      "image/png": "[encoded data removed]",
      "text/plain": [
       "<Figure size 432x288 with 2 Axes>"
      ]
     },
     "metadata": {
      "needs_background": "light"
     },
     "output_type": "display_data"
    }
   ],
   "source": [
    "sns.heatmap(inp0[['Total_Trans_Amt','Credit_Limit','Customer_Age']].corr(),annot=True,cmap='Reds')"
   ]
  },
  {
   "cell_type": "code",
   "execution_count": 32,
   "metadata": {},
   "outputs": [
    {
     "data": {
      "image/png": "[encoded data removed]",
      "text/plain": [
       "<Figure size 1152x864 with 1 Axes>"
      ]
     },
     "metadata": {
      "needs_background": "light"
     },
     "output_type": "display_data"
    }
   ],
   "source": [
    "plt.figure(figsize=(16,12))\n",
    "plt.title(\"Credit amount and Education Type against Gender variable\\n\", fontdict={'fontsize':21,'fontweight':6,'color':'Grey'})\n",
    "plt.xticks(rotation=90)\n",
    "sns.barplot(data =inp0, y='Credit_Limit',hue='Gender',x='Education_Level')\n",
    "plt.show()"
   ]
  },
  {
   "cell_type": "code",
   "execution_count": 36,
   "metadata": {},
   "outputs": [],
   "source": [
    "inp_corr=inp0.corr(method='spearman')"
   ]
  },
  {
   "cell_type": "code",
   "execution_count": 37,
   "metadata": {},
   "outputs": [
    {
     "data": {
      "text/html": [
       "<div>\n",
       "<style scoped>\n",
       "    .dataframe tbody tr th:only-of-type {\n",
       "        vertical-align: middle;\n",
       "    }\n",
       "\n",
       "    .dataframe tbody tr th {\n",
       "        vertical-align: top;\n",
       "    }\n",
       "\n",
       "    .dataframe thead th {\n",
       "        text-align: right;\n",
       "    }\n",
       "</style>\n",
       "<table border=\"1\" class=\"dataframe\">\n",
       "  <thead>\n",
       "    <tr style=\"text-align: right;\">\n",
       "      <th></th>\n",
       "      <th>Customer_Age</th>\n",
       "      <th>Gender</th>\n",
       "      <th>Dependent_count</th>\n",
       "      <th>Months_on_book</th>\n",
       "      <th>Total_Relationship_Count</th>\n",
       "      <th>Months_Inactive_12_mon</th>\n",
       "      <th>Contacts_Count_12_mon</th>\n",
       "      <th>Credit_Limit</th>\n",
       "      <th>Total_Revolving_Bal</th>\n",
       "      <th>Avg_Open_To_Buy</th>\n",
       "      <th>Total_Amt_Chng_Q4_Q1</th>\n",
       "      <th>Total_Trans_Amt</th>\n",
       "      <th>Total_Trans_Ct</th>\n",
       "      <th>Total_Ct_Chng_Q4_Q1</th>\n",
       "      <th>Avg_Utilization_Ratio</th>\n",
       "    </tr>\n",
       "  </thead>\n",
       "  <tbody>\n",
       "    <tr>\n",
       "      <th>Customer_Age</th>\n",
       "      <td>1.000000</td>\n",
       "      <td>-0.011380</td>\n",
       "      <td>-0.283224</td>\n",
       "      <td>0.718872</td>\n",
       "      <td>-0.004776</td>\n",
       "      <td>0.015603</td>\n",
       "      <td>0.005143</td>\n",
       "      <td>-0.002485</td>\n",
       "      <td>0.019567</td>\n",
       "      <td>-0.013752</td>\n",
       "      <td>-0.052467</td>\n",
       "      <td>-0.076355</td>\n",
       "      <td>-0.086178</td>\n",
       "      <td>-0.038075</td>\n",
       "      <td>0.020561</td>\n",
       "    </tr>\n",
       "    <tr>\n",
       "      <th>Gender</th>\n",
       "      <td>-0.011380</td>\n",
       "      <td>1.000000</td>\n",
       "      <td>-0.010515</td>\n",
       "      <td>0.002017</td>\n",
       "      <td>0.014373</td>\n",
       "      <td>-0.012970</td>\n",
       "      <td>0.035800</td>\n",
       "      <td>0.315269</td>\n",
       "      <td>0.032725</td>\n",
       "      <td>0.295268</td>\n",
       "      <td>0.003465</td>\n",
       "      <td>-0.132040</td>\n",
       "      <td>-0.118008</td>\n",
       "      <td>-0.038326</td>\n",
       "      <td>-0.128486</td>\n",
       "    </tr>\n",
       "    <tr>\n",
       "      <th>Dependent_count</th>\n",
       "      <td>-0.283224</td>\n",
       "      <td>-0.010515</td>\n",
       "      <td>1.000000</td>\n",
       "      <td>-0.235988</td>\n",
       "      <td>-0.039878</td>\n",
       "      <td>-0.005579</td>\n",
       "      <td>-0.039953</td>\n",
       "      <td>0.016709</td>\n",
       "      <td>-0.008088</td>\n",
       "      <td>0.021214</td>\n",
       "      <td>-0.017151</td>\n",
       "      <td>0.074364</td>\n",
       "      <td>0.065058</td>\n",
       "      <td>0.014943</td>\n",
       "      <td>-0.016665</td>\n",
       "    </tr>\n",
       "    <tr>\n",
       "      <th>Months_on_book</th>\n",
       "      <td>0.718872</td>\n",
       "      <td>0.002017</td>\n",
       "      <td>-0.235988</td>\n",
       "      <td>1.000000</td>\n",
       "      <td>-0.005062</td>\n",
       "      <td>0.031968</td>\n",
       "      <td>0.010962</td>\n",
       "      <td>0.008462</td>\n",
       "      <td>0.010107</td>\n",
       "      <td>0.006717</td>\n",
       "      <td>-0.034737</td>\n",
       "      <td>-0.065344</td>\n",
       "      <td>-0.071996</td>\n",
       "      <td>-0.039286</td>\n",
       "      <td>-0.002261</td>\n",
       "    </tr>\n",
       "    <tr>\n",
       "      <th>Total_Relationship_Count</th>\n",
       "      <td>-0.004776</td>\n",
       "      <td>0.014373</td>\n",
       "      <td>-0.039878</td>\n",
       "      <td>-0.005062</td>\n",
       "      <td>1.000000</td>\n",
       "      <td>-0.014113</td>\n",
       "      <td>0.058878</td>\n",
       "      <td>-0.027882</td>\n",
       "      <td>0.018809</td>\n",
       "      <td>-0.045844</td>\n",
       "      <td>0.033916</td>\n",
       "      <td>-0.239376</td>\n",
       "      <td>-0.195524</td>\n",
       "      <td>0.024731</td>\n",
       "      <td>0.053937</td>\n",
       "    </tr>\n",
       "    <tr>\n",
       "      <th>Months_Inactive_12_mon</th>\n",
       "      <td>0.015603</td>\n",
       "      <td>-0.012970</td>\n",
       "      <td>-0.005579</td>\n",
       "      <td>0.031968</td>\n",
       "      <td>-0.014113</td>\n",
       "      <td>1.000000</td>\n",
       "      <td>0.033761</td>\n",
       "      <td>-0.033083</td>\n",
       "      <td>-0.048377</td>\n",
       "      <td>-0.012036</td>\n",
       "      <td>-0.016626</td>\n",
       "      <td>-0.033761</td>\n",
       "      <td>-0.060962</td>\n",
       "      <td>-0.056623</td>\n",
       "      <td>-0.033438</td>\n",
       "    </tr>\n",
       "    <tr>\n",
       "      <th>Contacts_Count_12_mon</th>\n",
       "      <td>0.005143</td>\n",
       "      <td>0.035800</td>\n",
       "      <td>-0.039953</td>\n",
       "      <td>0.010962</td>\n",
       "      <td>0.058878</td>\n",
       "      <td>0.033761</td>\n",
       "      <td>1.000000</td>\n",
       "      <td>0.017938</td>\n",
       "      <td>-0.036894</td>\n",
       "      <td>0.033168</td>\n",
       "      <td>-0.020160</td>\n",
       "      <td>-0.181598</td>\n",
       "      <td>-0.174992</td>\n",
       "      <td>-0.098317</td>\n",
       "      <td>-0.054308</td>\n",
       "    </tr>\n",
       "    <tr>\n",
       "      <th>Credit_Limit</th>\n",
       "      <td>-0.002485</td>\n",
       "      <td>0.315269</td>\n",
       "      <td>0.016709</td>\n",
       "      <td>0.008462</td>\n",
       "      <td>-0.027882</td>\n",
       "      <td>-0.033083</td>\n",
       "      <td>0.017938</td>\n",
       "      <td>1.000000</td>\n",
       "      <td>0.183684</td>\n",
       "      <td>0.875866</td>\n",
       "      <td>0.013936</td>\n",
       "      <td>-0.016404</td>\n",
       "      <td>-0.010784</td>\n",
       "      <td>-0.018552</td>\n",
       "      <td>-0.336319</td>\n",
       "    </tr>\n",
       "    <tr>\n",
       "      <th>Total_Revolving_Bal</th>\n",
       "      <td>0.019567</td>\n",
       "      <td>0.032725</td>\n",
       "      <td>-0.008088</td>\n",
       "      <td>0.010107</td>\n",
       "      <td>0.018809</td>\n",
       "      <td>-0.048377</td>\n",
       "      <td>-0.036894</td>\n",
       "      <td>0.183684</td>\n",
       "      <td>1.000000</td>\n",
       "      <td>-0.230267</td>\n",
       "      <td>0.039663</td>\n",
       "      <td>0.016302</td>\n",
       "      <td>0.037705</td>\n",
       "      <td>0.084399</td>\n",
       "      <td>0.751153</td>\n",
       "    </tr>\n",
       "    <tr>\n",
       "      <th>Avg_Open_To_Buy</th>\n",
       "      <td>-0.013752</td>\n",
       "      <td>0.295268</td>\n",
       "      <td>0.021214</td>\n",
       "      <td>0.006717</td>\n",
       "      <td>-0.045844</td>\n",
       "      <td>-0.012036</td>\n",
       "      <td>0.033168</td>\n",
       "      <td>0.875866</td>\n",
       "      <td>-0.230267</td>\n",
       "      <td>1.000000</td>\n",
       "      <td>-0.006669</td>\n",
       "      <td>-0.029286</td>\n",
       "      <td>-0.031964</td>\n",
       "      <td>-0.062693</td>\n",
       "      <td>-0.722485</td>\n",
       "    </tr>\n",
       "    <tr>\n",
       "      <th>Total_Amt_Chng_Q4_Q1</th>\n",
       "      <td>-0.052467</td>\n",
       "      <td>0.003465</td>\n",
       "      <td>-0.017151</td>\n",
       "      <td>-0.034737</td>\n",
       "      <td>0.033916</td>\n",
       "      <td>-0.016626</td>\n",
       "      <td>-0.020160</td>\n",
       "      <td>0.013936</td>\n",
       "      <td>0.039663</td>\n",
       "      <td>-0.006669</td>\n",
       "      <td>1.000000</td>\n",
       "      <td>0.151926</td>\n",
       "      <td>0.096965</td>\n",
       "      <td>0.305389</td>\n",
       "      <td>0.040425</td>\n",
       "    </tr>\n",
       "    <tr>\n",
       "      <th>Total_Trans_Amt</th>\n",
       "      <td>-0.076355</td>\n",
       "      <td>-0.132040</td>\n",
       "      <td>0.074364</td>\n",
       "      <td>-0.065344</td>\n",
       "      <td>-0.239376</td>\n",
       "      <td>-0.033761</td>\n",
       "      <td>-0.181598</td>\n",
       "      <td>-0.016404</td>\n",
       "      <td>0.016302</td>\n",
       "      <td>-0.029286</td>\n",
       "      <td>0.151926</td>\n",
       "      <td>1.000000</td>\n",
       "      <td>0.869408</td>\n",
       "      <td>0.241031</td>\n",
       "      <td>0.050793</td>\n",
       "    </tr>\n",
       "    <tr>\n",
       "      <th>Total_Trans_Ct</th>\n",
       "      <td>-0.086178</td>\n",
       "      <td>-0.118008</td>\n",
       "      <td>0.065058</td>\n",
       "      <td>-0.071996</td>\n",
       "      <td>-0.195524</td>\n",
       "      <td>-0.060962</td>\n",
       "      <td>-0.174992</td>\n",
       "      <td>-0.010784</td>\n",
       "      <td>0.037705</td>\n",
       "      <td>-0.031964</td>\n",
       "      <td>0.096965</td>\n",
       "      <td>0.869408</td>\n",
       "      <td>1.000000</td>\n",
       "      <td>0.246001</td>\n",
       "      <td>0.069012</td>\n",
       "    </tr>\n",
       "    <tr>\n",
       "      <th>Total_Ct_Chng_Q4_Q1</th>\n",
       "      <td>-0.038075</td>\n",
       "      <td>-0.038326</td>\n",
       "      <td>0.014943</td>\n",
       "      <td>-0.039286</td>\n",
       "      <td>0.024731</td>\n",
       "      <td>-0.056623</td>\n",
       "      <td>-0.098317</td>\n",
       "      <td>-0.018552</td>\n",
       "      <td>0.084399</td>\n",
       "      <td>-0.062693</td>\n",
       "      <td>0.305389</td>\n",
       "      <td>0.241031</td>\n",
       "      <td>0.246001</td>\n",
       "      <td>1.000000</td>\n",
       "      <td>0.110058</td>\n",
       "    </tr>\n",
       "    <tr>\n",
       "      <th>Avg_Utilization_Ratio</th>\n",
       "      <td>0.020561</td>\n",
       "      <td>-0.128486</td>\n",
       "      <td>-0.016665</td>\n",
       "      <td>-0.002261</td>\n",
       "      <td>0.053937</td>\n",
       "      <td>-0.033438</td>\n",
       "      <td>-0.054308</td>\n",
       "      <td>-0.336319</td>\n",
       "      <td>0.751153</td>\n",
       "      <td>-0.722485</td>\n",
       "      <td>0.040425</td>\n",
       "      <td>0.050793</td>\n",
       "      <td>0.069012</td>\n",
       "      <td>0.110058</td>\n",
       "      <td>1.000000</td>\n",
       "    </tr>\n",
       "  </tbody>\n",
       "</table>\n",
       "</div>"
      ],
      "text/plain": [
       "                          Customer_Age    Gender  Dependent_count  \\\n",
       "Customer_Age                  1.000000 -0.011380        -0.283224   \n",
       "Gender                       -0.011380  1.000000        -0.010515   \n",
       "Dependent_count              -0.283224 -0.010515         1.000000   \n",
       "Months_on_book                0.718872  0.002017        -0.235988   \n",
       "Total_Relationship_Count     -0.004776  0.014373        -0.039878   \n",
       "Months_Inactive_12_mon        0.015603 -0.012970        -0.005579   \n",
       "Contacts_Count_12_mon         0.005143  0.035800        -0.039953   \n",
       "Credit_Limit                 -0.002485  0.315269         0.016709   \n",
       "Total_Revolving_Bal           0.019567  0.032725        -0.008088   \n",
       "Avg_Open_To_Buy              -0.013752  0.295268         0.021214   \n",
       "Total_Amt_Chng_Q4_Q1         -0.052467  0.003465        -0.017151   \n",
       "Total_Trans_Amt              -0.076355 -0.132040         0.074364   \n",
       "Total_Trans_Ct               -0.086178 -0.118008         0.065058   \n",
       "Total_Ct_Chng_Q4_Q1          -0.038075 -0.038326         0.014943   \n",
       "Avg_Utilization_Ratio         0.020561 -0.128486        -0.016665   \n",
       "\n",
       "                          Months_on_book  Total_Relationship_Count  \\\n",
       "Customer_Age                    0.718872                 -0.004776   \n",
       "Gender                          0.002017                  0.014373   \n",
       "Dependent_count                -0.235988                 -0.039878   \n",
       "Months_on_book                  1.000000                 -0.005062   \n",
       "Total_Relationship_Count       -0.005062                  1.000000   \n",
       "Months_Inactive_12_mon          0.031968                 -0.014113   \n",
       "Contacts_Count_12_mon           0.010962                  0.058878   \n",
       "Credit_Limit                    0.008462                 -0.027882   \n",
       "Total_Revolving_Bal             0.010107                  0.018809   \n",
       "Avg_Open_To_Buy                 0.006717                 -0.045844   \n",
       "Total_Amt_Chng_Q4_Q1           -0.034737                  0.033916   \n",
       "Total_Trans_Amt                -0.065344                 -0.239376   \n",
       "Total_Trans_Ct                 -0.071996                 -0.195524   \n",
       "Total_Ct_Chng_Q4_Q1            -0.039286                  0.024731   \n",
       "Avg_Utilization_Ratio          -0.002261                  0.053937   \n",
       "\n",
       "                          Months_Inactive_12_mon  Contacts_Count_12_mon  \\\n",
       "Customer_Age                            0.015603               0.005143   \n",
       "Gender                                 -0.012970               0.035800   \n",
       "Dependent_count                        -0.005579              -0.039953   \n",
       "Months_on_book                          0.031968               0.010962   \n",
       "Total_Relationship_Count               -0.014113               0.058878   \n",
       "Months_Inactive_12_mon                  1.000000               0.033761   \n",
       "Contacts_Count_12_mon                   0.033761               1.000000   \n",
       "Credit_Limit                           -0.033083               0.017938   \n",
       "Total_Revolving_Bal                    -0.048377              -0.036894   \n",
       "Avg_Open_To_Buy                        -0.012036               0.033168   \n",
       "Total_Amt_Chng_Q4_Q1                   -0.016626              -0.020160   \n",
       "Total_Trans_Amt                        -0.033761              -0.181598   \n",
       "Total_Trans_Ct                         -0.060962              -0.174992   \n",
       "Total_Ct_Chng_Q4_Q1                    -0.056623              -0.098317   \n",
       "Avg_Utilization_Ratio                  -0.033438              -0.054308   \n",
       "\n",
       "                          Credit_Limit  Total_Revolving_Bal  Avg_Open_To_Buy  \\\n",
       "Customer_Age                 -0.002485             0.019567        -0.013752   \n",
       "Gender                        0.315269             0.032725         0.295268   \n",
       "Dependent_count               0.016709            -0.008088         0.021214   \n",
       "Months_on_book                0.008462             0.010107         0.006717   \n",
       "Total_Relationship_Count     -0.027882             0.018809        -0.045844   \n",
       "Months_Inactive_12_mon       -0.033083            -0.048377        -0.012036   \n",
       "Contacts_Count_12_mon         0.017938            -0.036894         0.033168   \n",
       "Credit_Limit                  1.000000             0.183684         0.875866   \n",
       "Total_Revolving_Bal           0.183684             1.000000        -0.230267   \n",
       "Avg_Open_To_Buy               0.875866            -0.230267         1.000000   \n",
       "Total_Amt_Chng_Q4_Q1          0.013936             0.039663        -0.006669   \n",
       "Total_Trans_Amt              -0.016404             0.016302        -0.029286   \n",
       "Total_Trans_Ct               -0.010784             0.037705        -0.031964   \n",
       "Total_Ct_Chng_Q4_Q1          -0.018552             0.084399        -0.062693   \n",
       "Avg_Utilization_Ratio        -0.336319             0.751153        -0.722485   \n",
       "\n",
       "                          Total_Amt_Chng_Q4_Q1  Total_Trans_Amt  \\\n",
       "Customer_Age                         -0.052467        -0.076355   \n",
       "Gender                                0.003465        -0.132040   \n",
       "Dependent_count                      -0.017151         0.074364   \n",
       "Months_on_book                       -0.034737        -0.065344   \n",
       "Total_Relationship_Count              0.033916        -0.239376   \n",
       "Months_Inactive_12_mon               -0.016626        -0.033761   \n",
       "Contacts_Count_12_mon                -0.020160        -0.181598   \n",
       "Credit_Limit                          0.013936        -0.016404   \n",
       "Total_Revolving_Bal                   0.039663         0.016302   \n",
       "Avg_Open_To_Buy                      -0.006669        -0.029286   \n",
       "Total_Amt_Chng_Q4_Q1                  1.000000         0.151926   \n",
       "Total_Trans_Amt                       0.151926         1.000000   \n",
       "Total_Trans_Ct                        0.096965         0.869408   \n",
       "Total_Ct_Chng_Q4_Q1                   0.305389         0.241031   \n",
       "Avg_Utilization_Ratio                 0.040425         0.050793   \n",
       "\n",
       "                          Total_Trans_Ct  Total_Ct_Chng_Q4_Q1  \\\n",
       "Customer_Age                   -0.086178            -0.038075   \n",
       "Gender                         -0.118008            -0.038326   \n",
       "Dependent_count                 0.065058             0.014943   \n",
       "Months_on_book                 -0.071996            -0.039286   \n",
       "Total_Relationship_Count       -0.195524             0.024731   \n",
       "Months_Inactive_12_mon         -0.060962            -0.056623   \n",
       "Contacts_Count_12_mon          -0.174992            -0.098317   \n",
       "Credit_Limit                   -0.010784            -0.018552   \n",
       "Total_Revolving_Bal             0.037705             0.084399   \n",
       "Avg_Open_To_Buy                -0.031964            -0.062693   \n",
       "Total_Amt_Chng_Q4_Q1            0.096965             0.305389   \n",
       "Total_Trans_Amt                 0.869408             0.241031   \n",
       "Total_Trans_Ct                  1.000000             0.246001   \n",
       "Total_Ct_Chng_Q4_Q1             0.246001             1.000000   \n",
       "Avg_Utilization_Ratio           0.069012             0.110058   \n",
       "\n",
       "                          Avg_Utilization_Ratio  \n",
       "Customer_Age                           0.020561  \n",
       "Gender                                -0.128486  \n",
       "Dependent_count                       -0.016665  \n",
       "Months_on_book                        -0.002261  \n",
       "Total_Relationship_Count               0.053937  \n",
       "Months_Inactive_12_mon                -0.033438  \n",
       "Contacts_Count_12_mon                 -0.054308  \n",
       "Credit_Limit                          -0.336319  \n",
       "Total_Revolving_Bal                    0.751153  \n",
       "Avg_Open_To_Buy                       -0.722485  \n",
       "Total_Amt_Chng_Q4_Q1                   0.040425  \n",
       "Total_Trans_Amt                        0.050793  \n",
       "Total_Trans_Ct                         0.069012  \n",
       "Total_Ct_Chng_Q4_Q1                    0.110058  \n",
       "Avg_Utilization_Ratio                  1.000000  "
      ]
     },
     "execution_count": 37,
     "metadata": {},
     "output_type": "execute_result"
    }
   ],
   "source": [
    "inp_corr"
   ]
  },
  {
   "cell_type": "code",
   "execution_count": 41,
   "metadata": {},
   "outputs": [
    {
     "data": {
      "text/plain": [
       "<matplotlib.axes._subplots.AxesSubplot at 0x2d64f7ec580>"
      ]
     },
     "execution_count": 41,
     "metadata": {},
     "output_type": "execute_result"
    },
    {
     "data": {
      "image/png": "[encoded data removed]",
      "text/plain": [
       "<Figure size 432x288 with 2 Axes>"
      ]
     },
     "metadata": {
      "needs_background": "light"
     },
     "output_type": "display_data"
    }
   ],
   "source": [
    "sns.heatmap(inp_corr, cmap=\"RdYlGn\",annot=False)"
   ]
  },
  {
   "cell_type": "code",
   "execution_count": null,
   "metadata": {},
   "outputs": [],
   "source": []
  }
 ],
 "metadata": {
  "kernelspec": {
   "display_name": "Python 3",
   "language": "python",
   "name": "python3"
  },
  "language_info": {
   "codemirror_mode": {
    "name": "ipython",
    "version": 3
   },
   "file_extension": ".py",
   "mimetype": "text/x-python",
   "name": "python",
   "nbconvert_exporter": "python",
   "pygments_lexer": "ipython3",
   "version": "3.8.3"
  }
 },
 "nbformat": 4,
 "nbformat_minor": 4
}
